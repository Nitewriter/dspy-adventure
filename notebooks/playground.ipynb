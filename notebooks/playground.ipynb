{
 "cells": [
  {
   "cell_type": "code",
   "execution_count": 1,
   "metadata": {},
   "outputs": [],
   "source": [
    "import dspy\n",
    "import random\n",
    "\n",
    "max_tokens = 2000\n",
    "temperature = 0.6 + random.random() * 0.4\n",
    "frequency_penalty = 0.5\n",
    "model = \"llama3\"\n",
    "\n",
    "ollama = dspy.OllamaLocal(\n",
    "    model=model,\n",
    "    max_tokens=max_tokens,\n",
    "    temperature=temperature,\n",
    "    frequency_penalty=frequency_penalty,\n",
    "    timeout_s=500,\n",
    ")\n",
    "\n",
    "gpt3 = dspy.OpenAI(\n",
    "    model=\"gpt-3.5-turbo\",\n",
    "    max_tokens=max_tokens,\n",
    "    temperature=temperature,\n",
    "    # system_prompt=system_prompt,\n",
    ")\n",
    "\n",
    "dspy.configure(lm=gpt3)"
   ]
  },
  {
   "cell_type": "code",
   "execution_count": 2,
   "metadata": {},
   "outputs": [
    {
     "name": "stdout",
     "output_type": "stream",
     "text": [
      "\n",
      "- Backstory (Draehus) ----------------------------------------------------------\n",
      "Born in the fiery depths of the Red Dragon's lair, Draehus has always felt a connection to the ancient beasts that rule this land. Trained in the ways of combat and magic from a young age, he now seeks to prove himself as a worthy warrior and protector of his homeland. With his fierce determination and unwavering loyalty, Draehus will stop at nothing to defend his people and vanquish any who dare to threaten the Red Dragon's domain.\n",
      "--------------------------------------------------------------------------------\n",
      "\n",
      "- Narrative (The land of the Red...) -------------------------------------------\n",
      "Born in the fiery depths of the Red Dragon's lair, Draehus was raised among the flames and shadows of his powerful kin. Trained relentlessly in combat and magic, he honed his skills and grew into a formidable warrior with a deep sense of loyalty to his people. As he ventured out into the world, Draehus faced countless challenges and foes, but with his unwavering resolve and connection to the ancient dragon lineage, he rose to become a legendary protector of his homeland, feared by enemies and revered by allies. With every battle won and every threat vanquished, Draehus solidified his place as a hero of the Red Dragon's domain, forever bound to his destiny as a guardian of the fiery legacy that shaped him.\n",
      "--------------------------------------------------------------------------------\n",
      "\n",
      "- Summary ----------------------------------------------------------------------\n",
      "Draehus, born in the Red Dragon's lair, trained in combat and magic, became a legendary protector of his homeland, feared by enemies and revered by allies, bound by destiny to his fiery legacy.\n",
      "--------------------------------------------------------------------------------\n",
      "\n",
      "- Cities -----------------------------------------------------------------------\n",
      "Flamecrest\n",
      "Shadowvale\n",
      "Dragonfire Peak\n",
      "Emberglow\n",
      "Scale Ridge\n",
      "--------------------------------------------------------------------------------\n",
      "\n",
      "- Wilds ------------------------------------------------------------------------\n",
      "Dragon's Roost Wilderness Area\n",
      "Flamecrest Mountains\n",
      "Shadowed Canyon Sanctuary\n",
      "Draehus' Lairlands\n",
      "Fiery Ridge Reserve\n",
      "--------------------------------------------------------------------------------\n"
     ]
    }
   ],
   "source": [
    "from adventure.utils import print_divider, strip_numbered_prefixes\n",
    "from adventure.modules import (\n",
    "    PointOfInterestModule,\n",
    "    EncounterModule,\n",
    "    EncounterMenuModule,\n",
    "    EncounterResolverModule,\n",
    "    GameStartModule,\n",
    ")\n",
    "\n",
    "game_start_generator = GameStartModule()\n",
    "points_of_interest_generator = PointOfInterestModule()\n",
    "\n",
    "encounter_generator = EncounterModule()\n",
    "encounter_menu_generator = EncounterMenuModule()\n",
    "encounter_outcome_resolver = EncounterResolverModule()\n",
    "\n",
    "player_character = \"Draehus\"\n",
    "game_description = \"The land of the Red Dragon.\"\n",
    "\n",
    "game_context = game_start_generator(\n",
    "    player_character=player_character, game_description=game_description\n",
    ")\n",
    "\n",
    "print_divider(f\"Backstory ({player_character})\")\n",
    "print(game_context.backstory)\n",
    "print_divider()\n",
    "\n",
    "print_divider(f\"Narrative ({game_description[:20].strip()}...)\")\n",
    "print(game_context.narrative)\n",
    "print_divider()\n",
    "\n",
    "print_divider(f\"Summary\")\n",
    "print(game_context.summary)\n",
    "print_divider()\n",
    "\n",
    "print_divider(f\"Cities\")\n",
    "for city in game_context.cities_towns:\n",
    "    print(city)\n",
    "print_divider()\n",
    "\n",
    "print_divider(f\"Wilds\")\n",
    "for wild in game_context.wilds:\n",
    "    print(wild)\n",
    "print_divider()"
   ]
  },
  {
   "cell_type": "code",
   "execution_count": 3,
   "metadata": {},
   "outputs": [
    {
     "name": "stdout",
     "output_type": "stream",
     "text": [
      "\n",
      "- Points Of Interest (Flamecrest) ----------------------------------------------\n",
      "The Red Dragon's Lair\n",
      "The Hall of Flames\n",
      "The Shadow Ridge\n",
      "The Dragon's Breath Gorge\n",
      "The Shrine of Ancient Fire\n",
      "--------------------------------------------------------------------------------\n",
      "\n",
      "- Points Of Interest (Shadowvale) ----------------------------------------------\n",
      "The Red Dragon's Lair\n",
      "The Flames of the Forge\n",
      "The Shadows of the Ancient Library\n",
      "The Fiery Peak of Mount Ember\n",
      "The Hall of Dragon's Breath\n",
      "--------------------------------------------------------------------------------\n",
      "\n",
      "- Points Of Interest (Dragonfire Peak) -----------------------------------------\n",
      "The Red Dragon's Lair\n",
      "The Flameshadow Caves\n",
      "The Fiery Citadel\n",
      "The Dragon's Roost\n",
      "The Lava Fields\n",
      "--------------------------------------------------------------------------------\n",
      "\n",
      "- Points Of Interest (Emberglow) -----------------------------------------------\n",
      "The Red Dragon's Lair\n",
      "The Flameshadow Arena\n",
      "The Ancient Dragon's Tomb\n",
      "Draconic Peak\n",
      "The Fiery Forge\n",
      "The Shrine of the Dragonkin\n",
      "Draehus' Training Grounds\n",
      "--------------------------------------------------------------------------------\n",
      "\n",
      "- Points Of Interest (Scale Ridge) ---------------------------------------------\n",
      "Red Dragon's Lair\n",
      "Flameforged Forge\n",
      "Shadowed Caverns\n",
      "Dragon's Roost\n",
      "Fiery Falls\n",
      "--------------------------------------------------------------------------------\n"
     ]
    }
   ],
   "source": [
    "for location in game_context.cities_towns:\n",
    "    location = strip_numbered_prefixes(location)\n",
    "\n",
    "    points_of_interest = points_of_interest_generator(\n",
    "        narrative=game_context.narrative, primary_location=location\n",
    "    )\n",
    "\n",
    "    print_divider(f\"Points Of Interest ({location})\")\n",
    "    for poi in points_of_interest:\n",
    "        print(poi)\n",
    "    print_divider()"
   ]
  },
  {
   "cell_type": "code",
   "execution_count": 4,
   "metadata": {},
   "outputs": [
    {
     "name": "stdout",
     "output_type": "stream",
     "text": [
      "\n",
      "- Random Location (Shadowed Canyon Sanctuary) ----------------------------------\n",
      "Shadowed Canyon Sanctuary\n",
      "--------------------------------------------------------------------------------\n",
      "\n",
      "- Encounter --------------------------------------------------------------------\n",
      "As Draehus approaches the entrance to the Shadowed Canyon Sanctuary, he senses a disturbance in the air. The faint smell of sulfur mixed with the sound of distant whispers fills the air, causing his dragon blood to boil with anticipation. Suddenly, a group of rogue sorcerers emerge from the shadows, their eyes glowing with dark power as they prepare to unleash their magic upon the sanctuary. Draehus must use his combat skills and powerful magic to protect his homeland and defeat the rogue sorcerers before they can cause any harm.\n",
      "--------------------------------------------------------------------------------\n"
     ]
    }
   ],
   "source": [
    "print_divider(f\"Random Location ({game_context.current_location})\")\n",
    "print(game_context.current_location)\n",
    "print_divider()\n",
    "\n",
    "encounter_text = encounter_generator(\n",
    "    context=game_context.summary,\n",
    "    location=game_context.current_location,\n",
    "    player_character=player_character,\n",
    ")\n",
    "\n",
    "print_divider(f\"Encounter\")\n",
    "print(encounter_text)\n",
    "print_divider()"
   ]
  },
  {
   "cell_type": "code",
   "execution_count": 5,
   "metadata": {},
   "outputs": [
    {
     "name": "stdout",
     "output_type": "stream",
     "text": [
      "\n",
      "- Menu -------------------------------------------------------------------------\n",
      "Engage the rogue sorcerers in combat \n",
      "Use magic to create a protective barrier around the sanctuary \n",
      "Attempt to reason with the rogue sorcerers and convince them to leave peacefully \n",
      "Call upon the help of the sanctuary's guardians to aid in the battle\n",
      "--------------------------------------------------------------------------------\n"
     ]
    }
   ],
   "source": [
    "menu_options = encounter_menu_generator(encounter=encounter_text)\n",
    "\n",
    "print_divider(f\"Menu\")\n",
    "for item in menu_options:\n",
    "    print(item)\n",
    "print_divider()"
   ]
  },
  {
   "cell_type": "code",
   "execution_count": 6,
   "metadata": {},
   "outputs": [
    {
     "name": "stdout",
     "output_type": "stream",
     "text": [
      "\n",
      "- Random Option ----------------------------------------------------------------\n",
      "Draehus chooses to: Attempt to reason with the rogue sorcerers and convince them to leave peacefully \n",
      "--------------------------------------------------------------------------------\n",
      "\n",
      "- Player Rolls -----------------------------------------------------------------\n",
      "Draehus rolls a 17 out of 20 odds of success.\n",
      "--------------------------------------------------------------------------------\n",
      "\n",
      "- Encounter --------------------------------------------------------------------\n",
      "As Draehus steps forward, holding his hands out in a gesture of peace, he begins to speak to the rogue sorcerers. His words are filled with conviction and power, urging them to reconsider their actions and leave the sanctuary unharmed. The sorcerers pause, their eyes flickering with uncertainty as they listen to Draehus's words. After a tense moment, one of the sorcerers nods and signals to the others to stand down. The group slowly backs away, their dark magic dissipating as they retreat into the shadows. Draehus breathes a sigh of relief, grateful that diplomacy has prevailed and the sanctuary remains unscathed.\n",
      "--------------------------------------------------------------------------------\n"
     ]
    }
   ],
   "source": [
    "random_option = random.choice(menu_options)\n",
    "player_choice = f\"{player_character} chooses to: {random_option}\"\n",
    "\n",
    "print_divider(f\"Random Option\")\n",
    "print(player_choice)\n",
    "print_divider()\n",
    "\n",
    "# Roll a D20 to determine succes\n",
    "d20_roll = random.randint(1, 20)\n",
    "player_rolls = f\"{player_character} rolls a {d20_roll} out of 20 odds of success.\"\n",
    "\n",
    "print_divider(f\"Player Rolls\")\n",
    "print(player_rolls)\n",
    "print_divider()\n",
    "\n",
    "context = f\"{encounter_text}\\n\\n{player_choice}\\n\\n{player_rolls}\"\n",
    "\n",
    "new_encounter_text = encounter_generator(\n",
    "    context=context,\n",
    "    location=game_context.current_location,\n",
    "    player_character=player_character,\n",
    ")\n",
    "\n",
    "print_divider(f\"Encounter\")\n",
    "print(new_encounter_text)\n",
    "print_divider()"
   ]
  },
  {
   "cell_type": "code",
   "execution_count": 7,
   "metadata": {},
   "outputs": [
    {
     "name": "stdout",
     "output_type": "stream",
     "text": [
      "\n",
      "- Outcome ----------------------------------------------------------------------\n",
      "resolved_success\n",
      "--------------------------------------------------------------------------------\n"
     ]
    }
   ],
   "source": [
    "encounter_details = f\"{player_choice}\\n\\n{new_encounter_text}\"\n",
    "\n",
    "outcome = encounter_outcome_resolver(\n",
    "    encounter=encounter_details, player_character=player_character\n",
    ")\n",
    "\n",
    "print_divider(f\"Outcome\")\n",
    "print(outcome)\n",
    "print_divider()"
   ]
  }
 ],
 "metadata": {
  "kernelspec": {
   "display_name": ".venv",
   "language": "python",
   "name": "python3"
  },
  "language_info": {
   "codemirror_mode": {
    "name": "ipython",
    "version": 3
   },
   "file_extension": ".py",
   "mimetype": "text/x-python",
   "name": "python",
   "nbconvert_exporter": "python",
   "pygments_lexer": "ipython3",
   "version": "3.11.8"
  }
 },
 "nbformat": 4,
 "nbformat_minor": 2
}
